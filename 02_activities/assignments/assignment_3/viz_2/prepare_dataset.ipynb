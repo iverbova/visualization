{
 "cells": [
  {
   "cell_type": "markdown",
   "id": "9054e96d",
   "metadata": {},
   "source": [
    "# Preparing University Enrolment Data for Tableau Dashboard\n",
    "\n",
    "This notebook loads and prepares selected data from the **Ontario University Enrolment Headcount (2023-2024)** dataset.\n",
    "\n",
    "### Sheets Used\n",
    "- **Gender**: University enrolment by gender, institution, and study level.\n",
    "- **Credential**: Enrolment by credential type (e.g., certificate, degree, doctoral).\n",
    "\n",
    "### Goals\n",
    "- Clean the data for use in Tableau Public.\n",
    "- Ensure all suppressed or missing values are handled appropriately.\n",
    "- Combine and format key fields for easier visualization and filtering in Tableau.\n",
    "\n",
    "> Note: Some entries (e.g., `'*'`) indicate suppressed data due to small counts (<10). These will be removed to maintain data integrity.\n",
    "\n",
    "\n",
    "- Data sources: [Ontario Open Data](https://data.ontario.ca/dataset/university-enrolment)\n",
    "\n"
   ]
  },
  {
   "cell_type": "code",
   "execution_count": 3,
   "id": "c2e12e49",
   "metadata": {},
   "outputs": [
    {
     "name": "stdout",
     "output_type": "stream",
     "text": [
      "Cleaned data saved for Tableau import.\n"
     ]
    }
   ],
   "source": [
    "import pandas as pd\n",
    "\n",
    "# Load the Excel file \n",
    "excel_path = \"raw/university_enrolment_headcount_2023-24.xlsx\"\n",
    "xls = pd.ExcelFile(excel_path)\n",
    "\n",
    "# Load Gender and Credential sheets\n",
    "df_gender = xls.parse('Gender')\n",
    "df_credential = xls.parse('Credential')\n",
    "\n",
    "# Clean Gender Data \n",
    "# Drop rows with missing headcount or invalid values (e.g., '*')\n",
    "df_gender = df_gender[df_gender['HEADCOUNT'] != '*']\n",
    "df_gender['HEADCOUNT'] = pd.to_numeric(df_gender['HEADCOUNT'], errors='coerce')\n",
    "df_gender.dropna(subset=['HEADCOUNT'], inplace=True)\n",
    "\n",
    "# Rename columns for consistency\n",
    "df_gender.rename(columns={\n",
    "    'Institution': 'institution',\n",
    "    'Fiscal Year': 'fiscal_year',\n",
    "    'Study Level': 'study_level',\n",
    "    'Gender Group': 'gender',\n",
    "    'HEADCOUNT': 'headcount'\n",
    "}, inplace=True)\n",
    "\n",
    "# Clean Credential Data\n",
    "df_credential = df_credential[df_credential['HEADCOUNT'] != '*']\n",
    "df_credential['HEADCOUNT'] = pd.to_numeric(df_credential['HEADCOUNT'], errors='coerce')\n",
    "df_credential.dropna(subset=['HEADCOUNT'], inplace=True)\n",
    "\n",
    "df_credential.rename(columns={\n",
    "    'Institution': 'institution',\n",
    "    'Fiscal Year': 'fiscal_year',\n",
    "    'Study Level': 'study_level',\n",
    "    'Credential': 'credential',\n",
    "    'HEADCOUNT': 'headcount'\n",
    "}, inplace=True)\n",
    "\n",
    "# Save cleaned datasets for Tableau \n",
    "df_gender.to_csv(\"cleaned_university_enrolment_gender.csv\", index=False)\n",
    "df_credential.to_csv(\"cleaned_university_enrolment_credential.csv\", index=False)\n",
    "\n",
    "print(\"Cleaned data saved for Tableau import.\")\n"
   ]
  }
 ],
 "metadata": {
  "kernelspec": {
   "display_name": "dsi_participant",
   "language": "python",
   "name": "python3"
  },
  "language_info": {
   "codemirror_mode": {
    "name": "ipython",
    "version": 3
   },
   "file_extension": ".py",
   "mimetype": "text/x-python",
   "name": "python",
   "nbconvert_exporter": "python",
   "pygments_lexer": "ipython3",
   "version": "3.9.15"
  }
 },
 "nbformat": 4,
 "nbformat_minor": 5
}
